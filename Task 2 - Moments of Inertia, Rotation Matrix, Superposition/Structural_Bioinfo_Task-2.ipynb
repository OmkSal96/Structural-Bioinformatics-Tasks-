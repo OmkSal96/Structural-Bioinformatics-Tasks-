{
  "nbformat": 4,
  "nbformat_minor": 0,
  "metadata": {
    "colab": {
      "name": "Structural_Bioinfo_Ex2_Omkar_Salvi.ipynb",
      "provenance": [],
      "collapsed_sections": []
    },
    "kernelspec": {
      "name": "python3",
      "display_name": "Python 3"
    },
    "language_info": {
      "name": "python"
    }
  },
  "cells": [
    {
      "cell_type": "code",
      "source": [
        "import regex as re\n",
        "\n",
        "#opening 1st file\n",
        "mola=open('first_mol.txt','w')\n",
        "with open('1zta_ca_1.xyz') as f:\n",
        "  for line in f:\n",
        "    if re.search(\"C\", line):\n",
        "      mola.write(line)\n",
        "mola.close()\n",
        "\n",
        "#opening 2nd file\n",
        "mola=open('sec_mol.txt','w')\n",
        "with open('1zta_ca_2.xyz') as f:\n",
        "  for line in f:\n",
        "    if re.search(\"C\", line):\n",
        "      mola.write(line)\n",
        "mola.close()"
      ],
      "metadata": {
        "id": "tMJxQnHcFJ8z"
      },
      "execution_count": null,
      "outputs": []
    },
    {
      "cell_type": "code",
      "source": [
        "import pandas as pd\n",
        "\n",
        "#reading text files and converting to dataframe\n",
        "mol1 = pd.read_csv('first_mol.txt', sep='\\s+', header=None)\n",
        "mol2 = pd.read_csv('sec_mol.txt', sep='\\s+', header=None)\n",
        "\n",
        "one_df = pd.DataFrame(mol1)\n",
        "one_df_noC = one_df.iloc[:,1:]\n",
        "\n",
        "two_df = pd.DataFrame(mol2)\n",
        "two_df_noC = two_df.iloc[:,1:]"
      ],
      "metadata": {
        "id": "kcEMYvuXOP3s"
      },
      "execution_count": null,
      "outputs": []
    },
    {
      "cell_type": "code",
      "source": [
        "import numpy as np\n",
        "\n",
        "#converting df to np.array\n",
        "mol1 = one_df_noC.to_numpy()\n",
        "mol2 = two_df_noC.to_numpy()"
      ],
      "metadata": {
        "id": "WFyk_waBOcyh"
      },
      "execution_count": null,
      "outputs": []
    },
    {
      "cell_type": "code",
      "source": [
        "#center of mass of both molecules\n",
        "x1_coord_sum = one_df_noC.iloc[:,0].sum()/35\n",
        "y1_coord_sum = one_df_noC.iloc[:,1].sum()/35\n",
        "z1_coord_sum = one_df_noC.iloc[:,2].sum()/35\n",
        "com_mol1 = np.array([x1_coord_sum,y1_coord_sum,z1_coord_sum])\n",
        "\n",
        "\n",
        "x2_coord_sum = two_df_noC.iloc[:,0].sum()/35\n",
        "y2_coord_sum = two_df_noC.iloc[:,1].sum()/35\n",
        "z2_coord_sum = two_df_noC.iloc[:,2].sum()/35\n",
        "com_mol2 = np.array([x2_coord_sum,y2_coord_sum,z2_coord_sum])\n",
        "\n",
        "com_mol1, com_mol2"
      ],
      "metadata": {
        "id": "a970CrhGYAAZ",
        "colab": {
          "base_uri": "https://localhost:8080/"
        },
        "outputId": "21606c5b-0154-457c-87de-25bcc8e97243"
      },
      "execution_count": null,
      "outputs": [
        {
          "output_type": "execute_result",
          "data": {
            "text/plain": [
              "(array([ 0.17048571, -0.50471429, -0.40911429]),\n",
              " array([  9.16122857,  -7.34165714, -10.58485714]))"
            ]
          },
          "metadata": {},
          "execution_count": 4
        }
      ]
    },
    {
      "cell_type": "code",
      "source": [
        "#centering coordinates to zero\n",
        "one_df_noC = one_df_noC - com_mol1\n",
        "two_df_noC = two_df_noC - com_mol2\n",
        "\n",
        "np.array(one_df_noC.iloc[0,:])"
      ],
      "metadata": {
        "id": "W4s5oIOU0IsK",
        "colab": {
          "base_uri": "https://localhost:8080/"
        },
        "outputId": "c509853d-78f7-401d-d9b1-7dd486b46de6"
      },
      "execution_count": null,
      "outputs": [
        {
          "output_type": "execute_result",
          "data": {
            "text/plain": [
              "array([10.81451429, 20.94771429,  0.26611429])"
            ]
          },
          "metadata": {},
          "execution_count": 5
        }
      ]
    },
    {
      "cell_type": "code",
      "source": [
        "#Radius of gyration for 1st molecule\n",
        "import math\n",
        "\n",
        "rg_1 = np.linalg.norm(mol1 - com_mol1)**2\n",
        "mol1_rg = math.sqrt(rg_1/35)\n",
        "\n",
        "#Radius of gyration for 2nd molecule\n",
        "rg_2 = np.linalg.norm(mol2 - com_mol2)**2\n",
        "mol2_rg = math.sqrt(rg_2/35)\n",
        "\n",
        "mol1_rg, mol2_rg"
      ],
      "metadata": {
        "id": "To0iLstS0T9Y",
        "colab": {
          "base_uri": "https://localhost:8080/"
        },
        "outputId": "5e1e475a-2a3d-4ff7-b1dc-7ac0c753acca"
      },
      "execution_count": null,
      "outputs": [
        {
          "output_type": "execute_result",
          "data": {
            "text/plain": [
              "(14.783192944719906, 15.05206045538793)"
            ]
          },
          "metadata": {},
          "execution_count": 6
        }
      ]
    },
    {
      "cell_type": "code",
      "source": [
        "#molecule vectors\n",
        "import numpy as np\n",
        "\n",
        "one_v1 = np.array([0.541059, -0.299595, 0.785810])\n",
        "one_v2 = np.array([0.787317, -0.103191, -0.581439])\n",
        "one_v3 = np.array ([0.010829, 0.039588, 0.007637])\n",
        "\n",
        "two_v1 = np.array([0.027761, -0.103066, 0.994287])\n",
        "two_v2 = np.array([-0.010364, -0.974455, -0.100720])\n",
        "two_v3 = np.array([0.050197, -0.000385, -0.001441])\n",
        "\n",
        "miv_one = np.array([one_v1, one_v2, one_v3])\n",
        "miv_two = np.array([two_v1, two_v2, two_v3])"
      ],
      "metadata": {
        "id": "g4NEKQig8kLW"
      },
      "execution_count": null,
      "outputs": []
    },
    {
      "cell_type": "code",
      "source": [
        "#skew symmetric matrix\n",
        "def skew_symm(x):\n",
        "  sm = np.array([[0,-x[2],x[1]], \n",
        "                  [x[2],0,x[0]],\n",
        "                 [-x[1],x[0],0]])\n",
        "  return sm"
      ],
      "metadata": {
        "id": "50v_dYT_lH32"
      },
      "execution_count": null,
      "outputs": []
    },
    {
      "cell_type": "code",
      "source": [
        "#rotation matrix function\n",
        "def rotn_mat(v1,v2):\n",
        "  #scaling vectors\n",
        "  x = v1/np.linalg.norm(v1)\n",
        "  y = v2/np.linalg.norm(v2)\n",
        "  #cross product for orthogonal vector\n",
        "  or_vc = np.cross(x,y)\n",
        "  #dot product\n",
        "  dp = np.dot(x,y)\n",
        "  #magnitude of orthogonal vector\n",
        "  or_mag = np.linalg.norm(or_vc)\n",
        "  #scaling orthogonal vector\n",
        "  or_vc = or_vc/np.linalg.norm(or_vc)\n",
        "  #identity matrix \n",
        "  eye = np.eye(3)\n",
        "  #orthogonal outer product\n",
        "  outer = np.outer(or_vc,or_vc)\n",
        "\n",
        "  final_r = dp * eye + or_mag * skew_symm(or_vc) + outer * (1-dp)\n",
        "\n",
        "  return final_r\n",
        "\n",
        "#https://en.wikipedia.org/wiki/Rotation_matrix#In_three_dimensions"
      ],
      "metadata": {
        "id": "9RVw2akEmr81"
      },
      "execution_count": null,
      "outputs": []
    },
    {
      "cell_type": "code",
      "source": [
        "#3 rotation matrices\n",
        "rm1 = rotn_mat(one_v1,two_v1)\n",
        "rm2 = rotn_mat(one_v2, two_v2)\n",
        "rm3 = rotn_mat(one_v3, two_v3)"
      ],
      "metadata": {
        "id": "yaznknujqogf"
      },
      "execution_count": null,
      "outputs": []
    },
    {
      "cell_type": "code",
      "source": [
        "#function for rotation and generating new coordinates\n",
        "def rotation(one_df_noC,rm):\n",
        "  new_coord = []\n",
        "\n",
        "  for h in range(len(one_df_noC)):\n",
        "    single_atom = np.array(one_df_noC.iloc[h,:])\n",
        "    a = np.dot(rm,single_atom)\n",
        "    new_coord.append([a[0],a[1],a[2]])\n",
        "  \n",
        "  return new_coord"
      ],
      "metadata": {
        "id": "p1Da5AUJsUMK"
      },
      "execution_count": null,
      "outputs": []
    },
    {
      "cell_type": "code",
      "source": [
        "#rotations\n",
        "import pandas as pd\n",
        "rot_one = rotation(one_df_noC,rm1)\n",
        "rot_one = pd.DataFrame(rot_one)\n",
        "\n",
        "rot_two = rotation(rot_one,rm2)\n",
        "rot_two = pd.DataFrame(rot_two)\n",
        "\n",
        "rot_three = rotation(rot_one,rm3)\n",
        "rot_three = pd.DataFrame(rot_three)"
      ],
      "metadata": {
        "id": "uTQuzYHYwQzb"
      },
      "execution_count": null,
      "outputs": []
    },
    {
      "cell_type": "code",
      "source": [
        "#RMSD\n",
        "\n",
        "def rmsd(df1,df2):\n",
        "  j = 0\n",
        "  k = 0\n",
        "  l = 0\n",
        "\n",
        "  X_1 = df1.iloc[:,0]\n",
        "  Y_1 = df1.iloc[:,1]\n",
        "  Z_1 = df1.iloc[:,2]\n",
        "\n",
        "  X_2 = df2.iloc[:,0]\n",
        "  Y_2 = df2.iloc[:,1]\n",
        "  Z_2 = df2.iloc[:,2]\n",
        "\n",
        "  for i in range(len(df1)):\n",
        "    j += (X_1[i] - X_2[i])**2\n",
        "    k += (Y_1[i] - Y_2[i])**2\n",
        "    l += (Z_1[i] - Z_2[i])**2\n",
        "  \n",
        "  total = j + k + l\n",
        "  r = np.sqrt(total/len(df1))\n",
        "\n",
        "  return r"
      ],
      "metadata": {
        "id": "CFOyA_YwLo-w"
      },
      "execution_count": null,
      "outputs": []
    },
    {
      "cell_type": "code",
      "source": [
        "before_rotation_rmsd = rmsd(one_df_noC,two_df_noC)\n",
        "after_rotation_rmsd = rmsd(rot_three,two_df_noC)\n",
        "\n",
        "before_rotation_rmsd, after_rotation_rmsd"
      ],
      "metadata": {
        "id": "up4ghPbGOFch",
        "colab": {
          "base_uri": "https://localhost:8080/"
        },
        "outputId": "e2bb1672-805d-490b-b5dc-65cde653230c"
      },
      "execution_count": null,
      "outputs": [
        {
          "output_type": "execute_result",
          "data": {
            "text/plain": [
              "(18.41843801292385, 5.153406610983682)"
            ]
          },
          "metadata": {},
          "execution_count": 33
        }
      ]
    },
    {
      "cell_type": "markdown",
      "source": [
        "**RMSD** reduced from 18.418 to 5.153 after superposition."
      ],
      "metadata": {
        "id": "SroKRM7y8PND"
      }
    }
  ]
}